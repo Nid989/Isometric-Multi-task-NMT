{
  "nbformat": 4,
  "nbformat_minor": 0,
  "metadata": {
    "colab": {
      "name": "Process MuST-C data.ipynb",
      "provenance": [],
      "collapsed_sections": [],
      "private_outputs": true,
      "authorship_tag": "ABX9TyPbQsPwSbLrKLUFbHaQAqhi",
      "include_colab_link": true
    },
    "kernelspec": {
      "name": "python3",
      "display_name": "Python 3"
    },
    "language_info": {
      "name": "python"
    }
  },
  "cells": [
    {
      "cell_type": "markdown",
      "metadata": {
        "id": "view-in-github",
        "colab_type": "text"
      },
      "source": [
        "<a href=\"https://colab.research.google.com/github/Nid989/Isometric-Multi-task-NMT/blob/main/process_must_c_data.ipynb\" target=\"_parent\"><img src=\"https://colab.research.google.com/assets/colab-badge.svg\" alt=\"Open In Colab\"/></a>"
      ]
    },
    {
      "cell_type": "code",
      "execution_count": null,
      "metadata": {
        "id": "fY9Oxz5QF386"
      },
      "outputs": [],
      "source": [
        "%%capture\n",
        "!unzip en-de.zip"
      ]
    },
    {
      "cell_type": "code",
      "source": [
        "import pandas as pd\n",
        "import os\n",
        "from tqdm.notebook import tqdm"
      ],
      "metadata": {
        "id": "CQ0CBAkimyd2"
      },
      "execution_count": null,
      "outputs": []
    },
    {
      "cell_type": "code",
      "source": [
        "def get_list(path_to_file):\n",
        "  with open(path_to_file, 'r') as f:\n",
        "    content_list = [line.strip() for line in f]\n",
        "  return content_list"
      ],
      "metadata": {
        "id": "VlNv1ecIpej_"
      },
      "execution_count": null,
      "outputs": []
    },
    {
      "cell_type": "code",
      "source": [
        "source = \"en\"\n",
        "target = \"de\"\n",
        "\n",
        "path_to_main_directory = f\"/content/{source}-{target}/data/\"\n",
        "path_to_main_directory = os.path.normpath(path_to_main_directory)\n",
        "\n",
        "output_folder = f\"{source}-{target}_data\"\n",
        "current_directory = os.getcwd()\n",
        "if not os.path.exists(os.path.join(current_directory, output_folder)):\n",
        "    os.mkdir(output_folder)\n",
        "path_to_output_folder = os.path.join(current_directory, output_folder)\n",
        "\n",
        "for data_folder in os.listdir(path_to_main_directory):\n",
        "  if data_folder.startswith('._'):\n",
        "    continue\n",
        "  path_to_data_folder = os.path.join(path_to_main_directory, data_folder)\n",
        "  path_to_sub_text_folder = os.path.join(path_to_data_folder, \"txt/\")\n",
        "  source_filename = f\"{data_folder}.{source}\"\n",
        "  target_filename = f\"{data_folder}.{target}\" \n",
        "  path_to_source_file = os.path.join(path_to_sub_text_folder, source_filename)\n",
        "  path_to_target_file = os.path.join(path_to_sub_text_folder, target_filename)\n",
        "  source_list = get_list(path_to_source_file)\n",
        "  target_list = get_list(path_to_target_file)\n",
        "  assert len(source_list) != len(target), \"file length mismatch\"\n",
        "  merge_df = pd.DataFrame({\n",
        "      source: source_list,\n",
        "      target: target_list\n",
        "  })\n",
        "  output_filename = f\"{data_folder}.csv\"\n",
        "  path_to_output_file = os.path.join(path_to_output_folder, output_filename)\n",
        "  merge_df.to_csv(path_to_output_file, index=False)"
      ],
      "metadata": {
        "id": "ZE1InCtRnVF1"
      },
      "execution_count": null,
      "outputs": []
    }
  ]
}